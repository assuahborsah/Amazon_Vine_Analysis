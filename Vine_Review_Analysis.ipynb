{
  "nbformat": 4,
  "nbformat_minor": 0,
  "metadata": {
    "colab": {
      "name": "Vine_Review_Analysis.ipynb",
      "provenance": [],
      "authorship_tag": "ABX9TyPaxhseqGx7dAUT+n3rPM5b",
      "include_colab_link": true
    },
    "kernelspec": {
      "name": "python3",
      "display_name": "Python 3"
    },
    "language_info": {
      "name": "python"
    }
  },
  "cells": [
    {
      "cell_type": "markdown",
      "metadata": {
        "id": "view-in-github",
        "colab_type": "text"
      },
      "source": [
        "<a href=\"https://colab.research.google.com/github/assuahborsah/Amazon_Vine_Analysis/blob/main/Vine_Review_Analysis.ipynb\" target=\"_parent\"><img src=\"https://colab.research.google.com/assets/colab-badge.svg\" alt=\"Open In Colab\"/></a>"
      ]
    },
    {
      "cell_type": "code",
      "execution_count": 1,
      "metadata": {
        "id": "B85Si0JgqKah"
      },
      "outputs": [],
      "source": [
        "import os\n",
        "# Find the latest version of spark 3.0  from http://www.apache.org/dist/spark/ and enter as the spark version\n",
        "# For example:\n",
        "spark_version = 'spark-3.0.3'\n",
        "#spark_version = 'spark-3.<enter version>'\n",
        "os.environ['SPARK_VERSION']=spark_version"
      ]
    },
    {
      "cell_type": "code",
      "source": [
        "# Install Spark and Java\n",
        "!apt-get update\n",
        "!apt-get install openjdk-11-jdk-headless -qq > /dev/null\n",
        "!wget -q http://www.apache.org/dist/spark/$SPARK_VERSION/$SPARK_VERSION-bin-hadoop2.7.tgz\n",
        "!tar xf $SPARK_VERSION-bin-hadoop2.7.tgz\n",
        "!pip install -q findspark"
      ],
      "metadata": {
        "colab": {
          "base_uri": "https://localhost:8080/"
        },
        "id": "mhmaAN1Rqi9y",
        "outputId": "af78b5de-d76e-43b3-d1de-78d8044e4110"
      },
      "execution_count": 2,
      "outputs": [
        {
          "output_type": "stream",
          "name": "stdout",
          "text": [
            "Hit:1 https://developer.download.nvidia.com/compute/cuda/repos/ubuntu1804/x86_64  InRelease\n",
            "Ign:2 https://developer.download.nvidia.com/compute/machine-learning/repos/ubuntu1804/x86_64  InRelease\n",
            "Hit:3 https://developer.download.nvidia.com/compute/machine-learning/repos/ubuntu1804/x86_64  Release\n",
            "Get:4 http://security.ubuntu.com/ubuntu bionic-security InRelease [88.7 kB]\n",
            "Get:5 https://cloud.r-project.org/bin/linux/ubuntu bionic-cran40/ InRelease [3,626 B]\n",
            "Hit:6 http://archive.ubuntu.com/ubuntu bionic InRelease\n",
            "Hit:7 http://ppa.launchpad.net/c2d4u.team/c2d4u4.0+/ubuntu bionic InRelease\n",
            "Get:9 http://archive.ubuntu.com/ubuntu bionic-updates InRelease [88.7 kB]\n",
            "Hit:10 http://ppa.launchpad.net/cran/libgit2/ubuntu bionic InRelease\n",
            "Get:11 http://archive.ubuntu.com/ubuntu bionic-backports InRelease [74.6 kB]\n",
            "Hit:12 http://ppa.launchpad.net/deadsnakes/ppa/ubuntu bionic InRelease\n",
            "Get:13 http://security.ubuntu.com/ubuntu bionic-security/universe amd64 Packages [1,526 kB]\n",
            "Hit:14 http://ppa.launchpad.net/graphics-drivers/ppa/ubuntu bionic InRelease\n",
            "Get:15 http://archive.ubuntu.com/ubuntu bionic-updates/main amd64 Packages [3,329 kB]\n",
            "Get:16 http://security.ubuntu.com/ubuntu bionic-security/main amd64 Packages [2,897 kB]\n",
            "Get:17 http://security.ubuntu.com/ubuntu bionic-security/restricted amd64 Packages [1,057 kB]\n",
            "Get:18 http://archive.ubuntu.com/ubuntu bionic-updates/universe amd64 Packages [2,302 kB]\n",
            "Fetched 11.4 MB in 11s (1,014 kB/s)\n",
            "Reading package lists... Done\n"
          ]
        }
      ]
    },
    {
      "cell_type": "code",
      "source": [
        "# Set Environment Variables\n",
        "import os\n",
        "os.environ[\"JAVA_HOME\"] = \"/usr/lib/jvm/java-11-openjdk-amd64\"\n",
        "os.environ[\"SPARK_HOME\"] = f\"/content/{spark_version}-bin-hadoop2.7\""
      ],
      "metadata": {
        "id": "wxx_KNW9qxqh"
      },
      "execution_count": 3,
      "outputs": []
    },
    {
      "cell_type": "code",
      "source": [
        "# Start a SparkSession\n",
        "import findspark\n",
        "findspark.init()"
      ],
      "metadata": {
        "id": "wHmyBTRArFBe"
      },
      "execution_count": 4,
      "outputs": []
    },
    {
      "cell_type": "code",
      "source": [
        "# Download the Postgres driver that will allow Spark to interact with Postgres.\n",
        "!wget https://jdbc.postgresql.org/download/postgresql-42.2.16.jar"
      ],
      "metadata": {
        "colab": {
          "base_uri": "https://localhost:8080/"
        },
        "id": "gBhvDiIWrM43",
        "outputId": "aea671ab-ffe9-4e23-df49-c200283c5e88"
      },
      "execution_count": 5,
      "outputs": [
        {
          "output_type": "stream",
          "name": "stdout",
          "text": [
            "--2022-07-17 02:00:00--  https://jdbc.postgresql.org/download/postgresql-42.2.16.jar\n",
            "Resolving jdbc.postgresql.org (jdbc.postgresql.org)... 72.32.157.228, 2001:4800:3e1:1::228\n",
            "Connecting to jdbc.postgresql.org (jdbc.postgresql.org)|72.32.157.228|:443... connected.\n",
            "HTTP request sent, awaiting response... 200 OK\n",
            "Length: 1002883 (979K) [application/java-archive]\n",
            "Saving to: ‘postgresql-42.2.16.jar’\n",
            "\n",
            "postgresql-42.2.16. 100%[===================>] 979.38K  1.18MB/s    in 0.8s    \n",
            "\n",
            "2022-07-17 02:00:02 (1.18 MB/s) - ‘postgresql-42.2.16.jar’ saved [1002883/1002883]\n",
            "\n"
          ]
        }
      ]
    },
    {
      "cell_type": "code",
      "source": [
        "!pip install pyspark"
      ],
      "metadata": {
        "colab": {
          "base_uri": "https://localhost:8080/"
        },
        "id": "nN3MM09Tubn8",
        "outputId": "7d817986-0618-4a5c-f6f8-883a4cbd9639"
      },
      "execution_count": 6,
      "outputs": [
        {
          "output_type": "stream",
          "name": "stdout",
          "text": [
            "Looking in indexes: https://pypi.org/simple, https://us-python.pkg.dev/colab-wheels/public/simple/\n",
            "Collecting pyspark\n",
            "  Downloading pyspark-3.3.0.tar.gz (281.3 MB)\n",
            "\u001b[K     |████████████████████████████████| 281.3 MB 44 kB/s \n",
            "\u001b[?25hCollecting py4j==0.10.9.5\n",
            "  Downloading py4j-0.10.9.5-py2.py3-none-any.whl (199 kB)\n",
            "\u001b[K     |████████████████████████████████| 199 kB 62.3 MB/s \n",
            "\u001b[?25hBuilding wheels for collected packages: pyspark\n",
            "  Building wheel for pyspark (setup.py) ... \u001b[?25l\u001b[?25hdone\n",
            "  Created wheel for pyspark: filename=pyspark-3.3.0-py2.py3-none-any.whl size=281764026 sha256=c60e63913c912a866025241b29067d21a47a626590a331d638ed5d86e8a81a7e\n",
            "  Stored in directory: /root/.cache/pip/wheels/7a/8e/1b/f73a52650d2e5f337708d9f6a1750d451a7349a867f928b885\n",
            "Successfully built pyspark\n",
            "Installing collected packages: py4j, pyspark\n",
            "Successfully installed py4j-0.10.9.5 pyspark-3.3.0\n"
          ]
        }
      ]
    },
    {
      "cell_type": "code",
      "source": [
        "from pyspark.sql import SparkSession\n",
        "spark = SparkSession.builder.appName(\"M16-Amazon-Challenge\").config(\"spark.driver.extraClassPath\",\"/content/postgresql-42.2.16.jar\").getOrCreate()"
      ],
      "metadata": {
        "id": "CIhlER8gJoZ0"
      },
      "execution_count": 7,
      "outputs": []
    },
    {
      "cell_type": "code",
      "source": [
        "#  connect spark to an dataset from AWS S3 bucket.\n",
        "from pyspark import SparkFiles\n",
        "url = \"https://s3.amazonaws.com/amazon-reviews-pds/tsv/amazon_reviews_us_Outdoors_v1_00.tsv.gz\"\n",
        "spark.sparkContext.addFile(url)"
      ],
      "metadata": {
        "id": "AOc-ealZv0KI"
      },
      "execution_count": 8,
      "outputs": []
    },
    {
      "cell_type": "code",
      "source": [
        "# DataFrames and ETL Process"
      ],
      "metadata": {
        "id": "uFJPxVqmw-sZ"
      },
      "execution_count": 9,
      "outputs": []
    },
    {
      "cell_type": "code",
      "source": [
        "# create a DataFrame and read the data from AWS S3 bucket.\n",
        "df = spark.read.option(\"encoding\", \"UTF-8\").csv(SparkFiles.get(\"amazon_reviews_us_Outdoors_v1_00.tsv.gz\"), sep=\"\\t\", header=True, inferSchema=True, timestampFormat=\"yyyy/MM/dd HH:mm:ss\")\n",
        "df.show()"
      ],
      "metadata": {
        "colab": {
          "base_uri": "https://localhost:8080/"
        },
        "id": "dFO6LNRqxCvR",
        "outputId": "3042d4c8-1a29-4253-c91e-62ff3ec234d3"
      },
      "execution_count": 10,
      "outputs": [
        {
          "output_type": "stream",
          "name": "stdout",
          "text": [
            "+-----------+-----------+--------------+----------+--------------+--------------------+----------------+-----------+-------------+-----------+----+-----------------+--------------------+--------------------+-----------+\n",
            "|marketplace|customer_id|     review_id|product_id|product_parent|       product_title|product_category|star_rating|helpful_votes|total_votes|vine|verified_purchase|     review_headline|         review_body|review_date|\n",
            "+-----------+-----------+--------------+----------+--------------+--------------------+----------------+-----------+-------------+-----------+----+-----------------+--------------------+--------------------+-----------+\n",
            "|         US|   18446823|R35T75OLUGHL5C|B000NV6H94|     110804376|Stearns Youth Boa...|        Outdoors|          4|            0|          0|   N|                Y|          Four Stars|          GOOD VALUE| 2015-08-31|\n",
            "|         US|   13724367|R2BV735O46BN33|B000IN0W3Y|     624096774|Primal Wear Men's...|        Outdoors|          5|            0|          0|   N|                Y|          Five Stars|  Excellent quality.| 2015-08-31|\n",
            "|         US|   51001958|R2NBEUGPQQGXP1|B008RBJXFM|     278970944|Osprey Hydraulics...|        Outdoors|          4|            0|          0|   N|                Y|Only Flaw Is The Cap|3rd season using ...| 2015-08-31|\n",
            "|         US|   32866903|R17LLAOJ8ITK0S|B00FK8WUQY|     312877650|CamelBak eddy .75...|        Outdoors|          3|            1|          1|   N|                Y|Poor design leads...|poor construction...| 2015-08-31|\n",
            "|         US|   30907790|R39PEQBT5ISEF4|B00EZA3VW0|     305567912|Children Black Re...|        Outdoors|          1|            0|          0|   N|                Y|Very bad quality,...|Very bad quality,...| 2015-08-31|\n",
            "|         US|   20232229|R3GNM3SU9VHJFT|B006JA8WEG|     842306035|Ibera Bicycle Tri...|        Outdoors|          4|            1|          1|   N|                Y|Nice bag. Should ...|Nice bag. Should ...| 2015-08-31|\n",
            "|         US|   17698862| R2Y81OP0EK467|B002PWFSEO|     451480122|Therm-a-Rest Comp...|        Outdoors|          5|            0|          0|   N|                Y|Very comfortable ...|Gave this to my s...| 2015-08-31|\n",
            "|         US|   38486114|R2LFGSI6HAYH5F|B002DZGKHW|     124386306|Sawyer Products P...|        Outdoors|          5|            1|          1|   N|                Y| Worked like a charm|Went on vacation ...| 2015-08-31|\n",
            "|         US|   26319572|R297G6ED1IQO7W|B00ABA08F6|     991442421|Zippo Hand Warmer...|        Outdoors|          5|            1|          1|   N|                Y|Great item. Gets ...|Great item. Gets ...| 2015-08-31|\n",
            "|         US|   27152337| RE27RFC6101N6|B003Z8WIHC|     886483892|Camp Chef Dutch O...|        Outdoors|          5|            0|          0|   N|                Y|Great value for t...|I am so glad I bo...| 2015-08-31|\n",
            "|         US|   12516845|R3BPDME6E94W8Z|B007CP6UK0|     150224054|3CERA Portable Wi...|        Outdoors|          5|            0|          0|   N|                Y|          Five Stars|        good to have| 2015-08-31|\n",
            "|         US|    3225242|R2P08O1RILUOX3|B003V3U9JK|     343847969|Texsport King Kot...|        Outdoors|          3|            0|          0|   N|                Y|Cot set up inconv...|VERY difficult to...| 2015-08-31|\n",
            "|         US|     961839|R37CVAB03PTDVI|B00Y846HN8|     858088629|Wallygadgets 2 Wh...|        Outdoors|          5|            0|          1|   N|                Y|          Five Stars|Thanks excellent ...| 2015-08-31|\n",
            "|         US|   47796452| RAWNWOGXPCPMD|B00IYQ84VY|     474493517|RainStoppers 34-I...|        Outdoors|          5|            0|          0|   N|                Y|          Five Stars|This umbrella is ...| 2015-08-31|\n",
            "|         US|   32004835| R5DYGP6ASX77M|B002MYCKLY|     920014456|Alpha Deluxe Port...|        Outdoors|          5|            0|          0|   N|                Y|          Five Stars|Love it !! I even...| 2015-08-31|\n",
            "|         US|   23972939|R1O0SAOOGF2KG7|B00EZV69JG|     128489321|Speedfil Z4 BTA B...|        Outdoors|          4|            0|          0|   N|                Y|        Good enough.|This is a fine mo...| 2015-08-31|\n",
            "|         US|   40889047|R35NJUT0U3MU3V|B00AWOT3T8|     571303876|O'Brien Kids Plat...|        Outdoors|          5|            0|          0|   N|                Y| Got Up on First Try|We just bought th...| 2015-08-31|\n",
            "|         US|   11244387|R242C08MF9D1AH|B0000AXTID|     739769424|Kwik-Tek F-5R Pla...|        Outdoors|          5|            0|          0|   N|                Y|They go over an a...|I have these on m...| 2015-08-31|\n",
            "|         US|   20121211| R3RYG8TJTO4E2|B00IFHFJXI|     984009972|Ivation Portable ...|        Outdoors|          5|            0|          0|   N|                Y|Greatest Item I b...|This is the best ...| 2015-08-31|\n",
            "|         US|   25657249|R3IKH1DNY0CP9F|B00KFILTWU|     405521681|GreenInsync Repla...|        Outdoors|          2|            0|          0|   N|                Y|I received this p...|I received this p...| 2015-08-31|\n",
            "+-----------+-----------+--------------+----------+--------------+--------------------+----------------+-----------+-------------+-----------+----+-----------------+--------------------+--------------------+-----------+\n",
            "only showing top 20 rows\n",
            "\n"
          ]
        }
      ]
    },
    {
      "cell_type": "code",
      "source": [
        "# count of rows\n",
        "df.count()"
      ],
      "metadata": {
        "colab": {
          "base_uri": "https://localhost:8080/"
        },
        "id": "EYrVgAEP31Vs",
        "outputId": "5004bcca-7813-433c-ff07-efd3347b15a7"
      },
      "execution_count": 11,
      "outputs": [
        {
          "output_type": "execute_result",
          "data": {
            "text/plain": [
              "2302401"
            ]
          },
          "metadata": {},
          "execution_count": 11
        }
      ]
    },
    {
      "cell_type": "code",
      "source": [
        "# Show schema to confirm date type\n",
        "df.printSchema()"
      ],
      "metadata": {
        "colab": {
          "base_uri": "https://localhost:8080/"
        },
        "id": "Cizdg7aG5TMT",
        "outputId": "aec9a4eb-5b11-4781-c36e-ba8ed70e4d4c"
      },
      "execution_count": 12,
      "outputs": [
        {
          "output_type": "stream",
          "name": "stdout",
          "text": [
            "root\n",
            " |-- marketplace: string (nullable = true)\n",
            " |-- customer_id: integer (nullable = true)\n",
            " |-- review_id: string (nullable = true)\n",
            " |-- product_id: string (nullable = true)\n",
            " |-- product_parent: integer (nullable = true)\n",
            " |-- product_title: string (nullable = true)\n",
            " |-- product_category: string (nullable = true)\n",
            " |-- star_rating: integer (nullable = true)\n",
            " |-- helpful_votes: integer (nullable = true)\n",
            " |-- total_votes: integer (nullable = true)\n",
            " |-- vine: string (nullable = true)\n",
            " |-- verified_purchase: string (nullable = true)\n",
            " |-- review_headline: string (nullable = true)\n",
            " |-- review_body: string (nullable = true)\n",
            " |-- review_date: string (nullable = true)\n",
            "\n"
          ]
        }
      ]
    },
    {
      "cell_type": "code",
      "source": [
        "# 1. Filter the data and create a new DataFrame or table to retrieve all the rows where the total_votes count is equal\n",
        "# to or greater than 20 to pick reviews that are more likely to be helpful and to avoid having division by zero errors later on.\n",
        "top_reviews_df = df.filter(df.total_votes>20)\n",
        "top_reviews_df.show()"
      ],
      "metadata": {
        "colab": {
          "base_uri": "https://localhost:8080/"
        },
        "id": "Qb4TP-2s5ZpA",
        "outputId": "bc205c5e-c413-4ebe-beac-6c41c71bfba5"
      },
      "execution_count": 13,
      "outputs": [
        {
          "output_type": "stream",
          "name": "stdout",
          "text": [
            "+-----------+-----------+--------------+----------+--------------+--------------------+----------------+-----------+-------------+-----------+----+-----------------+--------------------+--------------------+-----------+\n",
            "|marketplace|customer_id|     review_id|product_id|product_parent|       product_title|product_category|star_rating|helpful_votes|total_votes|vine|verified_purchase|     review_headline|         review_body|review_date|\n",
            "+-----------+-----------+--------------+----------+--------------+--------------------+----------------+-----------+-------------+-----------+----+-----------------+--------------------+--------------------+-----------+\n",
            "|         US|   30222858|R2FP3U4NHNFNL2|B00YPISPNC|     468413405|Stanley Classic V...|        Outdoors|          5|           25|         29|   N|                Y|GREAT GROWLER! NO...|This item is awes...| 2015-08-31|\n",
            "|         US|   35677754|R1UUK1977O38MU|B00T8NEI3A|      32341693|Camping Wood Burn...|        Outdoors|          5|           31|         31|   N|                Y|    Dinner is served|worked great, lov...| 2015-08-31|\n",
            "|         US|   45781324| RXO216LWUDV6O|B00FLTZ2ZS|     361297724|DNM Mountain Bike...|        Outdoors|          3|           29|         31|   N|                Y|         Air leak :(|I just got this a...| 2015-08-31|\n",
            "|         US|   16699467|R3NMJF7EBMM19V|B007SZ4XJ4|     188745514|VeloChampion MLT1...|        Outdoors|          3|           26|         27|   N|                Y|Good quality, act...|The only reason I...| 2015-08-31|\n",
            "|         US|   16299390|R2ZY0ZBDUO0XUY|B00NAINBM8|     754535833|Earthtrekgear Fol...|        Outdoors|          3|           20|         21|   N|                Y|Short and (almost...|It is almost impo...| 2015-08-31|\n",
            "|         US|   30196513| RBDVHX7PMQEKM|B00OAUPSSA|     877639199|Insta-Bed Raised ...|        Outdoors|          5|           35|         39|   N|                Y|   Nice air mattress|Nice air mattress...| 2015-08-31|\n",
            "|         US|   13750464| RGO3KSDXYWTGU|B00V65XX0C|     379510044|OuterEQ 0.8L Outd...|        Outdoors|          4|           26|         26|   N|                Y|      Almost perfect|This is a nice li...| 2015-08-31|\n",
            "|         US|    6930362|R2O4P39D0ALCQK|B00NPLSZF8|     968147881|Ultra Bright LED ...|        Outdoors|          2|           14|         43|   N|                Y|You may be better...|After seeing this...| 2015-08-31|\n",
            "|         US|   14428825|R1E1PQGHWGO3Q1|B007ZYIFQ0|     184431888|Igloo Iceless The...|        Outdoors|          1|           89|         96|   N|                Y|        Doesn't work|Cord melted the f...| 2015-08-31|\n",
            "|         US|   42845702|R1XOXXUVYZEDJB|B0087NHUWS|     740768441|     Ribz Front Pack|        Outdoors|          5|           22|         22|   N|                Y|Nice compliment t...|Nicely compliment...| 2015-08-31|\n",
            "|         US|   13557708| R7SHITUU5UG9U|B00NFCFNUM|     608702364|Kelty Salida 2 Pe...|        Outdoors|          5|           27|         27|   N|                Y|Worth it with lot...|I bought this ite...| 2015-08-31|\n",
            "|         US|   15323553|R230TLHU91M5Y3|B010X5715I|     302429091|SYRINX High Quali...|        Outdoors|          4|           21|         21|   N|                Y|  Great little mount|Great little moun...| 2015-08-31|\n",
            "|         US|   32928343| RHR5MKO23K9TU|B00CMAG6BI|     401191323|Camp Chef Italia ...|        Outdoors|          5|           26|         30|   N|                Y|Well worth the pr...|I have been tryin...| 2015-08-31|\n",
            "|         US|    3046458|R1HGK3TCY161D7|B011OLKB3O|     653374459|Stanley Adventure...|        Outdoors|          5|           52|         55|   N|                N|Great for chunky ...|I got this thermo...| 2015-08-31|\n",
            "|         US|   51111929|R340QYAVNZZHJA|B005LURMSW|     340426618|Mountainsmith Con...|        Outdoors|          4|           25|         25|   N|                N|Spacious Tent, Hi...|My wife and I sea...| 2015-08-31|\n",
            "|         US|   43108390|R1N21UY546VWMN|B00DZLVDAC|     212774904|ExOfficio Men's G...|        Outdoors|          2|           48|         50|   N|                Y|These fit great, ...|These fit great, ...| 2015-08-31|\n",
            "|         US|   13629614|R1E4L344EK0ZOT|B012BRMTHG|     283537352|Cal 7 22 Inch Com...|        Outdoors|          5|           20|         26|   N|                N|This was a perfec...|This was a perfec...| 2015-08-31|\n",
            "|         US|   35439949|R282QUZDDJW3ON|B000NVBH8A|     136509543|Stearns Adult Cla...|        Outdoors|          4|           45|         49|   N|                Y|Universal for all...|Get universal unl...| 2015-08-31|\n",
            "|         US|   13260359|R3H5T3T7QY3ZL2|B00Y846HN8|     858088629|Wallygadgets 2 Wh...|        Outdoors|          5|          247|        263|   N|                Y|BEWARE OF THE SCA...|first off let me ...| 2015-08-31|\n",
            "|         US|   48844345|R3W1A1P95IIGHX|B00Z8V5OV6|      37436668|Ezisoul Large 32o...|        Outdoors|          5|           23|         25|   N|                N|This one is HANDS...|I have a few wate...| 2015-08-31|\n",
            "+-----------+-----------+--------------+----------+--------------+--------------------+----------------+-----------+-------------+-----------+----+-----------------+--------------------+--------------------+-----------+\n",
            "only showing top 20 rows\n",
            "\n"
          ]
        }
      ]
    },
    {
      "cell_type": "code",
      "source": [
        "# rows count\n",
        "top_reviews_df.count()"
      ],
      "metadata": {
        "colab": {
          "base_uri": "https://localhost:8080/"
        },
        "id": "ChTttpX85eR5",
        "outputId": "bef2db9b-708d-441e-f67d-ab10590d0741"
      },
      "execution_count": 14,
      "outputs": [
        {
          "output_type": "execute_result",
          "data": {
            "text/plain": [
              "40815"
            ]
          },
          "metadata": {},
          "execution_count": 14
        }
      ]
    },
    {
      "cell_type": "code",
      "source": [
        "# Load in a sql function to use columns\n",
        "from pyspark.sql.functions import col"
      ],
      "metadata": {
        "id": "CBfliT2y5u4x"
      },
      "execution_count": 15,
      "outputs": []
    },
    {
      "cell_type": "code",
      "source": [
        "# 2. Filter the new DataFrame or table created in Step 1 and create a new DataFrame or table to retrieve all the rows where the number of helpful_votes divided by total_votes is equal to or greater than 50%.\n",
        "average_top_votes_df = top_reviews_df.filter(col(\"helpful_votes\")/col(\"total_votes\") >= 0.5)\n",
        "average_top_votes_df.show()\n",
        "average_top_votes_df.count()"
      ],
      "metadata": {
        "colab": {
          "base_uri": "https://localhost:8080/"
        },
        "id": "tgWbEqUb5ykr",
        "outputId": "54738665-5f06-47ed-8498-b9d55f08baea"
      },
      "execution_count": 16,
      "outputs": [
        {
          "output_type": "stream",
          "name": "stdout",
          "text": [
            "+-----------+-----------+--------------+----------+--------------+--------------------+----------------+-----------+-------------+-----------+----+-----------------+--------------------+--------------------+-----------+\n",
            "|marketplace|customer_id|     review_id|product_id|product_parent|       product_title|product_category|star_rating|helpful_votes|total_votes|vine|verified_purchase|     review_headline|         review_body|review_date|\n",
            "+-----------+-----------+--------------+----------+--------------+--------------------+----------------+-----------+-------------+-----------+----+-----------------+--------------------+--------------------+-----------+\n",
            "|         US|   30222858|R2FP3U4NHNFNL2|B00YPISPNC|     468413405|Stanley Classic V...|        Outdoors|          5|           25|         29|   N|                Y|GREAT GROWLER! NO...|This item is awes...| 2015-08-31|\n",
            "|         US|   35677754|R1UUK1977O38MU|B00T8NEI3A|      32341693|Camping Wood Burn...|        Outdoors|          5|           31|         31|   N|                Y|    Dinner is served|worked great, lov...| 2015-08-31|\n",
            "|         US|   45781324| RXO216LWUDV6O|B00FLTZ2ZS|     361297724|DNM Mountain Bike...|        Outdoors|          3|           29|         31|   N|                Y|         Air leak :(|I just got this a...| 2015-08-31|\n",
            "|         US|   16699467|R3NMJF7EBMM19V|B007SZ4XJ4|     188745514|VeloChampion MLT1...|        Outdoors|          3|           26|         27|   N|                Y|Good quality, act...|The only reason I...| 2015-08-31|\n",
            "|         US|   16299390|R2ZY0ZBDUO0XUY|B00NAINBM8|     754535833|Earthtrekgear Fol...|        Outdoors|          3|           20|         21|   N|                Y|Short and (almost...|It is almost impo...| 2015-08-31|\n",
            "|         US|   30196513| RBDVHX7PMQEKM|B00OAUPSSA|     877639199|Insta-Bed Raised ...|        Outdoors|          5|           35|         39|   N|                Y|   Nice air mattress|Nice air mattress...| 2015-08-31|\n",
            "|         US|   13750464| RGO3KSDXYWTGU|B00V65XX0C|     379510044|OuterEQ 0.8L Outd...|        Outdoors|          4|           26|         26|   N|                Y|      Almost perfect|This is a nice li...| 2015-08-31|\n",
            "|         US|   14428825|R1E1PQGHWGO3Q1|B007ZYIFQ0|     184431888|Igloo Iceless The...|        Outdoors|          1|           89|         96|   N|                Y|        Doesn't work|Cord melted the f...| 2015-08-31|\n",
            "|         US|   42845702|R1XOXXUVYZEDJB|B0087NHUWS|     740768441|     Ribz Front Pack|        Outdoors|          5|           22|         22|   N|                Y|Nice compliment t...|Nicely compliment...| 2015-08-31|\n",
            "|         US|   13557708| R7SHITUU5UG9U|B00NFCFNUM|     608702364|Kelty Salida 2 Pe...|        Outdoors|          5|           27|         27|   N|                Y|Worth it with lot...|I bought this ite...| 2015-08-31|\n",
            "|         US|   15323553|R230TLHU91M5Y3|B010X5715I|     302429091|SYRINX High Quali...|        Outdoors|          4|           21|         21|   N|                Y|  Great little mount|Great little moun...| 2015-08-31|\n",
            "|         US|   32928343| RHR5MKO23K9TU|B00CMAG6BI|     401191323|Camp Chef Italia ...|        Outdoors|          5|           26|         30|   N|                Y|Well worth the pr...|I have been tryin...| 2015-08-31|\n",
            "|         US|    3046458|R1HGK3TCY161D7|B011OLKB3O|     653374459|Stanley Adventure...|        Outdoors|          5|           52|         55|   N|                N|Great for chunky ...|I got this thermo...| 2015-08-31|\n",
            "|         US|   51111929|R340QYAVNZZHJA|B005LURMSW|     340426618|Mountainsmith Con...|        Outdoors|          4|           25|         25|   N|                N|Spacious Tent, Hi...|My wife and I sea...| 2015-08-31|\n",
            "|         US|   43108390|R1N21UY546VWMN|B00DZLVDAC|     212774904|ExOfficio Men's G...|        Outdoors|          2|           48|         50|   N|                Y|These fit great, ...|These fit great, ...| 2015-08-31|\n",
            "|         US|   13629614|R1E4L344EK0ZOT|B012BRMTHG|     283537352|Cal 7 22 Inch Com...|        Outdoors|          5|           20|         26|   N|                N|This was a perfec...|This was a perfec...| 2015-08-31|\n",
            "|         US|   35439949|R282QUZDDJW3ON|B000NVBH8A|     136509543|Stearns Adult Cla...|        Outdoors|          4|           45|         49|   N|                Y|Universal for all...|Get universal unl...| 2015-08-31|\n",
            "|         US|   13260359|R3H5T3T7QY3ZL2|B00Y846HN8|     858088629|Wallygadgets 2 Wh...|        Outdoors|          5|          247|        263|   N|                Y|BEWARE OF THE SCA...|first off let me ...| 2015-08-31|\n",
            "|         US|   48844345|R3W1A1P95IIGHX|B00Z8V5OV6|      37436668|Ezisoul Large 32o...|        Outdoors|          5|           23|         25|   N|                N|This one is HANDS...|I have a few wate...| 2015-08-31|\n",
            "|         US|   44133542| RN2B68SF5XGIE|B004J2KDHK|     135448060|Sundome 3 Person ...|        Outdoors|          3|           79|         85|   N|                Y|THIS TENT IS NOT ...|As shown in the p...| 2015-08-31|\n",
            "+-----------+-----------+--------------+----------+--------------+--------------------+----------------+-----------+-------------+-----------+----+-----------------+--------------------+--------------------+-----------+\n",
            "only showing top 20 rows\n",
            "\n"
          ]
        },
        {
          "output_type": "execute_result",
          "data": {
            "text/plain": [
              "37544"
            ]
          },
          "metadata": {},
          "execution_count": 16
        }
      ]
    },
    {
      "cell_type": "code",
      "source": [
        "# 3. Filter the DataFrame or table created in Step 2, and create a new DataFrame or table that retrieves all the rows\n",
        "# where a review was written as part of the Vine program (paid), vine == 'Y'.\n",
        "paid_reviews_df = average_top_votes_df.filter(col(\"vine\") == \"Y\")\n",
        "paid_reviews_df.show()\n",
        "paid_reviews_df.count()"
      ],
      "metadata": {
        "colab": {
          "base_uri": "https://localhost:8080/"
        },
        "id": "biCL1x-l6UEQ",
        "outputId": "74a08d4d-abf3-4906-b623-b54a45ca75ed"
      },
      "execution_count": 17,
      "outputs": [
        {
          "output_type": "stream",
          "name": "stdout",
          "text": [
            "+-----------+-----------+--------------+----------+--------------+--------------------+----------------+-----------+-------------+-----------+----+-----------------+--------------------+--------------------+-----------+\n",
            "|marketplace|customer_id|     review_id|product_id|product_parent|       product_title|product_category|star_rating|helpful_votes|total_votes|vine|verified_purchase|     review_headline|         review_body|review_date|\n",
            "+-----------+-----------+--------------+----------+--------------+--------------------+----------------+-----------+-------------+-----------+----+-----------------+--------------------+--------------------+-----------+\n",
            "|         US|   43335941|R3KPC0NBUDASX3|B00R8KC02Q|     872035750|Thule EnRoute Tri...|        Outdoors|          5|           25|         25|   Y|                N|Love the Thule ba...|THULE:<br /><br /...| 2015-08-24|\n",
            "|         US|   36470546|R119P2A95GGXX4|B00NOYKVSK|     165748383|Wenzel Temp Contr...|        Outdoors|          5|           26|         28|   Y|                N|Very Comfy--Here'...|This sleeping bag...| 2015-07-09|\n",
            "|         US|   50794278|R1HKIRME8AJ89Z|B00GK4LUXQ|     737005436|Klymit Inertia O ...|        Outdoors|          5|           79|         82|   Y|                N|A sleeping pad li...|[[VIDEOID:4513a9b...| 2015-07-04|\n",
            "|         US|   43856165|R15KH3FBSVYGBU|B00NFCFIR0|     167877886|Kelty Tuck 22 Deg...|        Outdoors|          5|           32|         37|   Y|                N|Compared to Kelty...|I own both the [[...| 2015-06-14|\n",
            "|         US|   25821331|R22XZEQLVLWW49|B00NFCFAYQ|     771093954|Cosmic Down 20 De...|        Outdoors|          5|           28|         33|   Y|                N|A really great sl...|Wow!  Having just...| 2015-06-11|\n",
            "|         US|   11556116|R2OIQYVAL9D63R|B00NFCFIR0|     167877886|Kelty Tuck 22 Deg...|        Outdoors|          4|           59|         65|   Y|                N|Like the Foot fea...|I already own thr...| 2015-06-09|\n",
            "|         US|   11556116|R1W3KCDHM6BMZT|B00G6KURDI|     463959079|Kelty TN 2 Person...|        Outdoors|          4|           37|         38|   Y|                N|Light weight, roo...|I like the rolled...| 2015-06-05|\n",
            "|         US|   18267561|R3KDMPS96IJ10R|B00R8K9VZA|     306686399|Thule RideAlong M...|        Outdoors|          2|           15|         21|   Y|                N|Awkward, unstable...|Despite the slick...| 2015-05-10|\n",
            "|         US|   13722260|R1XWEI58A7VKLB|B00R6SBMPG|     141037234|Thule Vertex XT H...|        Outdoors|          5|          123|        128|   Y|                N|The best hitch ra...|First off, this t...| 2015-05-08|\n",
            "|         US|   50599697|R1CJWM6CMWKSA1|B00M542ILI|     410973207|Thule Raceway Pro...|        Outdoors|          4|           31|         33|   Y|                N|Recommended. Grea...|From an owner and...| 2015-05-05|\n",
            "|         US|   41604883|R39I3FUDBKZM3Y|B00R6SBMPG|     141037234|Thule Vertex XT H...|        Outdoors|          5|           34|         38|   Y|                N|  Solid in every way|Best bike carrier...| 2015-05-01|\n",
            "|         US|   51250504|R32LU0KSL7QWSF|B00R6SBML0|     485306161|Thule Vertex Swin...|        Outdoors|          5|           35|         37|   Y|                N|Excellent - Swing...|This is a wonderf...| 2015-05-01|\n",
            "|         US|   31302915|R2LGDXO3MG2WQW|B00U4HDLGO|     706335403|Thule Urban Glide...|        Outdoors|          5|           37|         41|   Y|                N|Thule Glide 2 for...|We might have a n...| 2015-04-19|\n",
            "|         US|   44341716|R16AVI2NTYWLKI|B00R8K9VZA|     306686399|Thule RideAlong M...|        Outdoors|          5|           31|         33|   Y|                N|Great way to ride...|We have 3 childre...| 2015-04-03|\n",
            "|         US|   45351550|R12K0ITIV6AYM3|B00FZLIK1U|     156536278|Thule Cadence Chi...|        Outdoors|          5|           34|         34|   Y|                N|Excellent dedicat...|Above the fold re...| 2015-03-24|\n",
            "|         US|   45351550| R9ILZLNNK93CO|B00FOUMCD4|     129685188|Thule Coaster2+ B...|        Outdoors|          5|           38|         39|   Y|                N|More dialed in to...|In 2011 Thule dec...| 2015-03-23|\n",
            "|         US|   45351550|R1CS8VSI1KSR1P|B00KNTHH2C|     347242708|Thule Glide - Per...|        Outdoors|          5|           21|         22|   Y|                N|Glide or Urban Gl...|Above the fold ve...| 2015-03-23|\n",
            "|         US|   11556116|R186TCIH8TEGPY|B00SISWNZG|     959754939|Mountain House Sc...|        Outdoors|          5|           40|         43|   Y|                N|Mountain house br...|I just love these...| 2015-03-04|\n",
            "|         US|   52532594| R3GBQRR2GY4SP|B00SISWXVK|     994639471|Mountain House Br...|        Outdoors|          4|          119|        125|   Y|                N|A postitive exper...|I have NEVER had ...| 2015-02-27|\n",
            "|         US|   53090971| RHECZSD3E6AQN|B00KQGE5Q8|     724964459|Retrospec 5-in-1 ...|        Outdoors|          3|           20|         22|   Y|                N|Great for Schrade...|I have bikes with...| 2014-12-31|\n",
            "+-----------+-----------+--------------+----------+--------------+--------------------+----------------+-----------+-------------+-----------+----+-----------------+--------------------+--------------------+-----------+\n",
            "only showing top 20 rows\n",
            "\n"
          ]
        },
        {
          "output_type": "execute_result",
          "data": {
            "text/plain": [
              "103"
            ]
          },
          "metadata": {},
          "execution_count": 17
        }
      ]
    },
    {
      "cell_type": "code",
      "source": [
        "# 4. Repeat Step 3, but this time retrieve all the rows where the review was not part of the Vine program (unpaid), vine == 'N'.\n",
        "unpaid_reviews_df = average_top_votes_df.filter(col(\"vine\") == \"N\")\n",
        "unpaid_reviews_df.show()\n",
        "unpaid_reviews_df.count()"
      ],
      "metadata": {
        "colab": {
          "base_uri": "https://localhost:8080/"
        },
        "id": "rhz5wq9C69Od",
        "outputId": "9a245426-8d24-4640-b6dd-801de7f9a0e5"
      },
      "execution_count": 18,
      "outputs": [
        {
          "output_type": "stream",
          "name": "stdout",
          "text": [
            "+-----------+-----------+--------------+----------+--------------+--------------------+----------------+-----------+-------------+-----------+----+-----------------+--------------------+--------------------+-----------+\n",
            "|marketplace|customer_id|     review_id|product_id|product_parent|       product_title|product_category|star_rating|helpful_votes|total_votes|vine|verified_purchase|     review_headline|         review_body|review_date|\n",
            "+-----------+-----------+--------------+----------+--------------+--------------------+----------------+-----------+-------------+-----------+----+-----------------+--------------------+--------------------+-----------+\n",
            "|         US|   30222858|R2FP3U4NHNFNL2|B00YPISPNC|     468413405|Stanley Classic V...|        Outdoors|          5|           25|         29|   N|                Y|GREAT GROWLER! NO...|This item is awes...| 2015-08-31|\n",
            "|         US|   35677754|R1UUK1977O38MU|B00T8NEI3A|      32341693|Camping Wood Burn...|        Outdoors|          5|           31|         31|   N|                Y|    Dinner is served|worked great, lov...| 2015-08-31|\n",
            "|         US|   45781324| RXO216LWUDV6O|B00FLTZ2ZS|     361297724|DNM Mountain Bike...|        Outdoors|          3|           29|         31|   N|                Y|         Air leak :(|I just got this a...| 2015-08-31|\n",
            "|         US|   16699467|R3NMJF7EBMM19V|B007SZ4XJ4|     188745514|VeloChampion MLT1...|        Outdoors|          3|           26|         27|   N|                Y|Good quality, act...|The only reason I...| 2015-08-31|\n",
            "|         US|   16299390|R2ZY0ZBDUO0XUY|B00NAINBM8|     754535833|Earthtrekgear Fol...|        Outdoors|          3|           20|         21|   N|                Y|Short and (almost...|It is almost impo...| 2015-08-31|\n",
            "|         US|   30196513| RBDVHX7PMQEKM|B00OAUPSSA|     877639199|Insta-Bed Raised ...|        Outdoors|          5|           35|         39|   N|                Y|   Nice air mattress|Nice air mattress...| 2015-08-31|\n",
            "|         US|   13750464| RGO3KSDXYWTGU|B00V65XX0C|     379510044|OuterEQ 0.8L Outd...|        Outdoors|          4|           26|         26|   N|                Y|      Almost perfect|This is a nice li...| 2015-08-31|\n",
            "|         US|   14428825|R1E1PQGHWGO3Q1|B007ZYIFQ0|     184431888|Igloo Iceless The...|        Outdoors|          1|           89|         96|   N|                Y|        Doesn't work|Cord melted the f...| 2015-08-31|\n",
            "|         US|   42845702|R1XOXXUVYZEDJB|B0087NHUWS|     740768441|     Ribz Front Pack|        Outdoors|          5|           22|         22|   N|                Y|Nice compliment t...|Nicely compliment...| 2015-08-31|\n",
            "|         US|   13557708| R7SHITUU5UG9U|B00NFCFNUM|     608702364|Kelty Salida 2 Pe...|        Outdoors|          5|           27|         27|   N|                Y|Worth it with lot...|I bought this ite...| 2015-08-31|\n",
            "|         US|   15323553|R230TLHU91M5Y3|B010X5715I|     302429091|SYRINX High Quali...|        Outdoors|          4|           21|         21|   N|                Y|  Great little mount|Great little moun...| 2015-08-31|\n",
            "|         US|   32928343| RHR5MKO23K9TU|B00CMAG6BI|     401191323|Camp Chef Italia ...|        Outdoors|          5|           26|         30|   N|                Y|Well worth the pr...|I have been tryin...| 2015-08-31|\n",
            "|         US|    3046458|R1HGK3TCY161D7|B011OLKB3O|     653374459|Stanley Adventure...|        Outdoors|          5|           52|         55|   N|                N|Great for chunky ...|I got this thermo...| 2015-08-31|\n",
            "|         US|   51111929|R340QYAVNZZHJA|B005LURMSW|     340426618|Mountainsmith Con...|        Outdoors|          4|           25|         25|   N|                N|Spacious Tent, Hi...|My wife and I sea...| 2015-08-31|\n",
            "|         US|   43108390|R1N21UY546VWMN|B00DZLVDAC|     212774904|ExOfficio Men's G...|        Outdoors|          2|           48|         50|   N|                Y|These fit great, ...|These fit great, ...| 2015-08-31|\n",
            "|         US|   13629614|R1E4L344EK0ZOT|B012BRMTHG|     283537352|Cal 7 22 Inch Com...|        Outdoors|          5|           20|         26|   N|                N|This was a perfec...|This was a perfec...| 2015-08-31|\n",
            "|         US|   35439949|R282QUZDDJW3ON|B000NVBH8A|     136509543|Stearns Adult Cla...|        Outdoors|          4|           45|         49|   N|                Y|Universal for all...|Get universal unl...| 2015-08-31|\n",
            "|         US|   13260359|R3H5T3T7QY3ZL2|B00Y846HN8|     858088629|Wallygadgets 2 Wh...|        Outdoors|          5|          247|        263|   N|                Y|BEWARE OF THE SCA...|first off let me ...| 2015-08-31|\n",
            "|         US|   48844345|R3W1A1P95IIGHX|B00Z8V5OV6|      37436668|Ezisoul Large 32o...|        Outdoors|          5|           23|         25|   N|                N|This one is HANDS...|I have a few wate...| 2015-08-31|\n",
            "|         US|   44133542| RN2B68SF5XGIE|B004J2KDHK|     135448060|Sundome 3 Person ...|        Outdoors|          3|           79|         85|   N|                Y|THIS TENT IS NOT ...|As shown in the p...| 2015-08-31|\n",
            "+-----------+-----------+--------------+----------+--------------+--------------------+----------------+-----------+-------------+-----------+----+-----------------+--------------------+--------------------+-----------+\n",
            "only showing top 20 rows\n",
            "\n"
          ]
        },
        {
          "output_type": "execute_result",
          "data": {
            "text/plain": [
              "37441"
            ]
          },
          "metadata": {},
          "execution_count": 18
        }
      ]
    },
    {
      "cell_type": "code",
      "source": [
        "# Analysis"
      ],
      "metadata": {
        "id": "GIWFE0WV7IJi"
      },
      "execution_count": 19,
      "outputs": []
    },
    {
      "cell_type": "code",
      "source": [
        "# 5. Determine the total number of reviews, the number of 5-star reviews, and the percentage of 5-star reviews for the two types\n",
        "# of review (paid vs unpaid).\n",
        "\n",
        "# total number of reviews paid and unpaid\n",
        "total_number_reviews = average_top_votes_df.count()\n",
        "total_number_reviews"
      ],
      "metadata": {
        "colab": {
          "base_uri": "https://localhost:8080/"
        },
        "id": "cztlaTVN7NXH",
        "outputId": "61dbb1ff-777e-4582-ba2d-2c6a1ddde12d"
      },
      "execution_count": 20,
      "outputs": [
        {
          "output_type": "execute_result",
          "data": {
            "text/plain": [
              "37544"
            ]
          },
          "metadata": {},
          "execution_count": 20
        }
      ]
    },
    {
      "cell_type": "code",
      "source": [
        "# total amount of paid reviews\n",
        "total_paid_reviews = paid_reviews_df.count()\n",
        "total_paid_reviews"
      ],
      "metadata": {
        "colab": {
          "base_uri": "https://localhost:8080/"
        },
        "id": "boqdeKzz7alB",
        "outputId": "bb9cdf58-c368-4f37-ddf5-c1745c80f667"
      },
      "execution_count": 21,
      "outputs": [
        {
          "output_type": "execute_result",
          "data": {
            "text/plain": [
              "103"
            ]
          },
          "metadata": {},
          "execution_count": 21
        }
      ]
    },
    {
      "cell_type": "code",
      "source": [
        "# total amount of unpaid reviews\n",
        "total_unpaid_reviews = unpaid_reviews_df.count()\n",
        "total_unpaid_reviews"
      ],
      "metadata": {
        "colab": {
          "base_uri": "https://localhost:8080/"
        },
        "id": "zK7JUEWx7hi8",
        "outputId": "64add04d-73f5-408d-fa1e-efb3ed855dd3"
      },
      "execution_count": 22,
      "outputs": [
        {
          "output_type": "execute_result",
          "data": {
            "text/plain": [
              "37441"
            ]
          },
          "metadata": {},
          "execution_count": 22
        }
      ]
    },
    {
      "cell_type": "code",
      "source": [
        "# total number of 5-start reviews paid and unpaid\n",
        "total_five_star_reviews = average_top_votes_df.filter(col(\"star_rating\") == 5).count()\n",
        "total_five_star_reviews"
      ],
      "metadata": {
        "colab": {
          "base_uri": "https://localhost:8080/"
        },
        "id": "1_aBw4KU7pYP",
        "outputId": "9f4f444c-5e6f-47ce-ff4c-e930802b609b"
      },
      "execution_count": 23,
      "outputs": [
        {
          "output_type": "execute_result",
          "data": {
            "text/plain": [
              "19791"
            ]
          },
          "metadata": {},
          "execution_count": 23
        }
      ]
    },
    {
      "cell_type": "code",
      "source": [
        "# total number of 5-start reviews paid\n",
        "paid_five_star_reviews = paid_reviews_df.filter(col(\"star_rating\") == 5).count()\n",
        "paid_five_star_reviews"
      ],
      "metadata": {
        "colab": {
          "base_uri": "https://localhost:8080/"
        },
        "id": "J46pF-J_7vxi",
        "outputId": "93615930-1832-4555-e293-34be192e79ab"
      },
      "execution_count": 24,
      "outputs": [
        {
          "output_type": "execute_result",
          "data": {
            "text/plain": [
              "55"
            ]
          },
          "metadata": {},
          "execution_count": 24
        }
      ]
    },
    {
      "cell_type": "code",
      "source": [
        "# total number of 5-start reviews unpaid\n",
        "unpaid_five_star_reviews = unpaid_reviews_df.filter(col(\"star_rating\") == 5).count()\n",
        "unpaid_five_star_reviews"
      ],
      "metadata": {
        "colab": {
          "base_uri": "https://localhost:8080/"
        },
        "id": "Ww_0cIyU7027",
        "outputId": "9dfca13a-692e-40ab-c244-57a1edcee650"
      },
      "execution_count": 25,
      "outputs": [
        {
          "output_type": "execute_result",
          "data": {
            "text/plain": [
              "19736"
            ]
          },
          "metadata": {},
          "execution_count": 25
        }
      ]
    },
    {
      "cell_type": "code",
      "source": [
        "# percentage of total paid reviews versus paid 5 stars reviews\n",
        "ratio_paid5_vs_paid = round(((paid_five_star_reviews / total_paid_reviews ) * 100),2)\n",
        "ratio_paid5_vs_paid"
      ],
      "metadata": {
        "colab": {
          "base_uri": "https://localhost:8080/"
        },
        "id": "P9l6L25F76B4",
        "outputId": "b3b0db49-7f82-4ca8-fd16-c4003fe7e67b"
      },
      "execution_count": 26,
      "outputs": [
        {
          "output_type": "execute_result",
          "data": {
            "text/plain": [
              "53.4"
            ]
          },
          "metadata": {},
          "execution_count": 26
        }
      ]
    },
    {
      "cell_type": "code",
      "source": [
        "# percentage of total unpaid reviews versus unpaid 5 stars reviews\n",
        "ratio_unpaid5_vs_unpaid = round(((unpaid_five_star_reviews / total_unpaid_reviews ) * 100),2)\n",
        "ratio_unpaid5_vs_unpaid"
      ],
      "metadata": {
        "colab": {
          "base_uri": "https://localhost:8080/"
        },
        "id": "U6XLicFm78h7",
        "outputId": "bb5265ef-4f28-4dec-fc72-0210c7647dd7"
      },
      "execution_count": 27,
      "outputs": [
        {
          "output_type": "execute_result",
          "data": {
            "text/plain": [
              "52.71"
            ]
          },
          "metadata": {},
          "execution_count": 27
        }
      ]
    },
    {
      "cell_type": "code",
      "source": [
        "# Results DataFrame"
      ],
      "metadata": {
        "id": "LOIy4AwG8GDc"
      },
      "execution_count": 29,
      "outputs": []
    },
    {
      "cell_type": "code",
      "source": [
        "# Start Spark session\n",
        "from pyspark.sql import SparkSession\n",
        "spark = SparkSession.builder.appName(\"DataFrameBasics\").getOrCreate()"
      ],
      "metadata": {
        "id": "MKMHQsGK8Ant"
      },
      "execution_count": 28,
      "outputs": []
    },
    {
      "cell_type": "code",
      "source": [
        "# create a DataFrame do Display the results\n",
        "results_df = spark.createDataFrame([\n",
        "                                   (total_five_star_reviews, ratio_unpaid5_vs_unpaid, ratio_paid5_vs_paid)\n",
        "], [\"Total Number of 5-Star Reviews\",\"% 5-Star Unpaid Reviews\", \"% 5-Star Paid Reviews\"])\n",
        "\n",
        "results_df.show()"
      ],
      "metadata": {
        "colab": {
          "base_uri": "https://localhost:8080/"
        },
        "id": "H4IllYJi8O2j",
        "outputId": "a1461985-8329-4658-bd0d-e9da49407c24"
      },
      "execution_count": 30,
      "outputs": [
        {
          "output_type": "stream",
          "name": "stdout",
          "text": [
            "+------------------------------+-----------------------+---------------------+\n",
            "|Total Number of 5-Star Reviews|% 5-Star Unpaid Reviews|% 5-Star Paid Reviews|\n",
            "+------------------------------+-----------------------+---------------------+\n",
            "|                         19791|                  52.71|                 53.4|\n",
            "+------------------------------+-----------------------+---------------------+\n",
            "\n"
          ]
        }
      ]
    }
  ]
}